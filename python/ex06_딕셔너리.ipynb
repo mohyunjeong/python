{
 "cells": [
  {
   "cell_type": "markdown",
   "id": "77315402",
   "metadata": {},
   "source": [
    "### 📕 딕셔너리\n",
    "- dictionary는 단어 그대로 해석하면 사전이라는 뜻을 가지고 있따.\n",
    "- \"baseball\"이라는 단어는 \"야구\"라는 단어에 부합하듯, dictionary는 Key와 Value를 한 쌍으로 갖는 자료형\n",
    "- 기본형식\n",
    " - a = {}\n",
    " - b = {\"name\" : \"HJ\"}\n",
    " - c = { 1:5, 2:3 }"
   ]
  },
  {
   "cell_type": "markdown",
   "id": "0fb6564b",
   "metadata": {},
   "source": [
    "### 📗 딕셔너리 선언 및 타입 확인"
   ]
  },
  {
   "cell_type": "code",
   "execution_count": 1,
   "id": "41aa816b",
   "metadata": {},
   "outputs": [
    {
     "data": {
      "text/plain": [
       "{'name': 'HJ', 'age': '23', 'phone': '010-8255-7026'}"
      ]
     },
     "execution_count": 1,
     "metadata": {},
     "output_type": "execute_result"
    }
   ],
   "source": [
    "dic1 = {\"name\" : \"HJ\", \"age\" : \"23\", \"phone\" : '010-8255-7026'}\n",
    "dic1"
   ]
  },
  {
   "cell_type": "code",
   "execution_count": 2,
   "id": "b69e3347",
   "metadata": {},
   "outputs": [
    {
     "name": "stdout",
     "output_type": "stream",
     "text": [
      "<class 'dict'>\n"
     ]
    }
   ],
   "source": [
    "print(type(dic1))"
   ]
  },
  {
   "cell_type": "markdown",
   "id": "0eca8eb8",
   "metadata": {},
   "source": [
    "#### 📘 딕셔너리에 값 추가"
   ]
  },
  {
   "cell_type": "code",
   "execution_count": 4,
   "id": "292152ca",
   "metadata": {},
   "outputs": [
    {
     "data": {
      "text/plain": [
       "{'name': 'HJ', 'age': '23', 'phone': '010-8255-7026', 'birth': '03/29'}"
      ]
     },
     "execution_count": 4,
     "metadata": {},
     "output_type": "execute_result"
    }
   ],
   "source": [
    "dic1['birth'] = '03/29'\n",
    "dic1"
   ]
  },
  {
   "cell_type": "code",
   "execution_count": 5,
   "id": "80b770b5",
   "metadata": {},
   "outputs": [
    {
     "data": {
      "text/plain": [
       "{'노래 제목': '아무 노래'}"
      ]
     },
     "execution_count": 5,
     "metadata": {},
     "output_type": "execute_result"
    }
   ],
   "source": [
    "dic_test = {'노래 제목' : '아무 노래'}\n",
    "dic_test"
   ]
  },
  {
   "cell_type": "code",
   "execution_count": 6,
   "id": "4382f1fc",
   "metadata": {},
   "outputs": [
    {
     "data": {
      "text/plain": [
       "{'노래 제목': '아무 노래', '가수': '지코', '발매날짜': '2020.01.13'}"
      ]
     },
     "execution_count": 6,
     "metadata": {},
     "output_type": "execute_result"
    }
   ],
   "source": [
    "# 📙 dic_test라는 딕셔너리에 가수 : 지코, 발매날짜 : 2020.01.13\n",
    "dic_test['가수'] = '지코'\n",
    "dic_test['발매날짜'] = '2020.01.13'\n",
    "dic_test"
   ]
  },
  {
   "cell_type": "markdown",
   "id": "76278a04",
   "metadata": {},
   "source": [
    "#### 📘 값 가져오기"
   ]
  },
  {
   "cell_type": "code",
   "execution_count": 8,
   "id": "d5d51fb9",
   "metadata": {},
   "outputs": [
    {
     "data": {
      "text/plain": [
       "'HJ'"
      ]
     },
     "execution_count": 8,
     "metadata": {},
     "output_type": "execute_result"
    }
   ],
   "source": [
    "# 📙 이름 접근\n",
    "dic1['name']"
   ]
  },
  {
   "cell_type": "code",
   "execution_count": 9,
   "id": "ee22a863",
   "metadata": {},
   "outputs": [
    {
     "data": {
      "text/plain": [
       "'03/29'"
      ]
     },
     "execution_count": 9,
     "metadata": {},
     "output_type": "execute_result"
    }
   ],
   "source": [
    "# 📙 생일 접근\n",
    "dic1['birth']"
   ]
  },
  {
   "cell_type": "code",
   "execution_count": 10,
   "id": "d1dccd98",
   "metadata": {},
   "outputs": [
    {
     "data": {
      "text/plain": [
       "'HJ'"
      ]
     },
     "execution_count": 10,
     "metadata": {},
     "output_type": "execute_result"
    }
   ],
   "source": [
    "# 📙 이름 가져오기(get 함수())\n",
    "dic1.get('name')"
   ]
  },
  {
   "cell_type": "code",
   "execution_count": 11,
   "id": "26579496",
   "metadata": {},
   "outputs": [
    {
     "data": {
      "text/plain": [
       "'03/29'"
      ]
     },
     "execution_count": 11,
     "metadata": {},
     "output_type": "execute_result"
    }
   ],
   "source": [
    "# 📙 생일 접근\n",
    "dic1.get('birth')"
   ]
  },
  {
   "cell_type": "markdown",
   "id": "79135925",
   "metadata": {},
   "source": [
    "##### 📒  접근 방식의 차이"
   ]
  },
  {
   "cell_type": "code",
   "execution_count": 14,
   "id": "6cbb6df3",
   "metadata": {
    "collapsed": true
   },
   "outputs": [
    {
     "ename": "KeyError",
     "evalue": "'tall'",
     "output_type": "error",
     "traceback": [
      "\u001b[1;31m---------------------------------------------------------------------------\u001b[0m",
      "\u001b[1;31mKeyError\u001b[0m                                  Traceback (most recent call last)",
      "Cell \u001b[1;32mIn[14], line 1\u001b[0m\n\u001b[1;32m----> 1\u001b[0m \u001b[38;5;28mprint\u001b[39m(dic1[\u001b[38;5;124m'\u001b[39m\u001b[38;5;124mtall\u001b[39m\u001b[38;5;124m'\u001b[39m])\n",
      "\u001b[1;31mKeyError\u001b[0m: 'tall'"
     ]
    }
   ],
   "source": [
    "print(dic1['tall']) # error!"
   ]
  },
  {
   "cell_type": "code",
   "execution_count": 13,
   "id": "17c040a8",
   "metadata": {},
   "outputs": [],
   "source": [
    "dic1.get('tall')"
   ]
  },
  {
   "cell_type": "markdown",
   "id": "13f1c613",
   "metadata": {},
   "source": [
    "#### 📚 딕셔너리 키 값만 가져오기"
   ]
  },
  {
   "cell_type": "code",
   "execution_count": 15,
   "id": "7d0a2fd2",
   "metadata": {},
   "outputs": [
    {
     "data": {
      "text/plain": [
       "dict_keys(['name', 'age', 'phone', 'birth'])"
      ]
     },
     "execution_count": 15,
     "metadata": {},
     "output_type": "execute_result"
    }
   ],
   "source": [
    "dic1.keys() # keys()"
   ]
  },
  {
   "cell_type": "markdown",
   "id": "e11694d2",
   "metadata": {},
   "source": [
    "#### 📚 딕셔너리 벨류 값만 가져오기"
   ]
  },
  {
   "cell_type": "code",
   "execution_count": 17,
   "id": "7cf6dbfb",
   "metadata": {},
   "outputs": [
    {
     "data": {
      "text/plain": [
       "dict_values(['HJ', '23', '010-8255-7026', '03/29'])"
      ]
     },
     "execution_count": 17,
     "metadata": {},
     "output_type": "execute_result"
    }
   ],
   "source": [
    "dic1.values() # values()"
   ]
  },
  {
   "cell_type": "markdown",
   "id": "82c18770",
   "metadata": {},
   "source": [
    "#### 📚 딕셔너리의 아이템(키 값) 벨류 값 모두 가져오기"
   ]
  },
  {
   "cell_type": "code",
   "execution_count": 18,
   "id": "aa0118b7",
   "metadata": {},
   "outputs": [
    {
     "data": {
      "text/plain": [
       "dict_items([('name', 'HJ'), ('age', '23'), ('phone', '010-8255-7026'), ('birth', '03/29')])"
      ]
     },
     "execution_count": 18,
     "metadata": {},
     "output_type": "execute_result"
    }
   ],
   "source": [
    "dic1.items() # items()"
   ]
  },
  {
   "cell_type": "code",
   "execution_count": 19,
   "id": "ac5de05d",
   "metadata": {},
   "outputs": [
    {
     "data": {
      "text/plain": [
       "[('name', 'HJ'), ('age', '23'), ('phone', '010-8255-7026'), ('birth', '03/29')]"
      ]
     },
     "execution_count": 19,
     "metadata": {},
     "output_type": "execute_result"
    }
   ],
   "source": [
    "# < Tip > \n",
    "# 아이템들을 리스트로 보고 싶을 때 --> 형변환\n",
    "list(dic1.items())"
   ]
  },
  {
   "cell_type": "markdown",
   "id": "10651ffe",
   "metadata": {},
   "source": [
    "### 📗 딕셔너리와 for문의 활용"
   ]
  },
  {
   "cell_type": "code",
   "execution_count": 20,
   "id": "9773a478",
   "metadata": {},
   "outputs": [
    {
     "name": "stdout",
     "output_type": "stream",
     "text": [
      "name\n",
      "age\n",
      "phone\n",
      "birth\n"
     ]
    }
   ],
   "source": [
    "for key in dic1.keys() : # keys()를 사용하면 리스트 형태로 key값들이 순서를 가지게 됨\n",
    "    print(key)"
   ]
  },
  {
   "cell_type": "code",
   "execution_count": 21,
   "id": "a82dbaf1",
   "metadata": {},
   "outputs": [
    {
     "name": "stdout",
     "output_type": "stream",
     "text": [
      "HJ\n",
      "23\n",
      "010-8255-7026\n",
      "03/29\n"
     ]
    }
   ],
   "source": [
    "for key in dic1.values() :\n",
    "    print(key)"
   ]
  },
  {
   "cell_type": "code",
   "execution_count": 22,
   "id": "e2ee484c",
   "metadata": {},
   "outputs": [
    {
     "name": "stdout",
     "output_type": "stream",
     "text": [
      "('name', 'HJ')\n",
      "('age', '23')\n",
      "('phone', '010-8255-7026')\n",
      "('birth', '03/29')\n"
     ]
    }
   ],
   "source": [
    "for key in dic1.items() :\n",
    "    print(key)"
   ]
  },
  {
   "cell_type": "markdown",
   "id": "dd67c986",
   "metadata": {},
   "source": [
    "#### 📘 딕셔너리와 for문을 활용한 예제"
   ]
  },
  {
   "cell_type": "code",
   "execution_count": 89,
   "id": "ceb3ccf0",
   "metadata": {},
   "outputs": [
    {
     "data": {
      "text/plain": [
       "{'이름': ['손지영', '임경남', '조준용', '임보미', '김민수'],\n",
       " 'Python': [90, 50, 60, 80, 100],\n",
       " 'Java': [80, 90, 70, 60, 30],\n",
       " 'html/css': [80, 95, 80, 75, 50]}"
      ]
     },
     "execution_count": 89,
     "metadata": {},
     "output_type": "execute_result"
    }
   ],
   "source": [
    "score_dict = {'이름' : ['손지영', '임경남', '조준용', '임보미', '김민수'],\n",
    "             'Python' : [90, 50, 60, 80, 100],\n",
    "              'Java' : [80, 90, 70, 60, 30],\n",
    "              'html/css' : [80, 95, 80, 75, 50]\n",
    "             }\n",
    "score_dict"
   ]
  },
  {
   "cell_type": "markdown",
   "id": "19fd2abe",
   "metadata": {},
   "source": [
    "##### 📙 1. python 과목의 평균 점수 구하기"
   ]
  },
  {
   "cell_type": "code",
   "execution_count": 82,
   "id": "5caa9a1b",
   "metadata": {
    "scrolled": true
   },
   "outputs": [
    {
     "name": "stdout",
     "output_type": "stream",
     "text": [
      "Python 과목의 평균 : 76.0\n"
     ]
    }
   ],
   "source": [
    "# 현정's 풀이방법!\n",
    "hap = 0\n",
    "jum = score_dict['Python']\n",
    "\n",
    "for i in range(0, 5) :\n",
    "    hap += jum[i]\n",
    "print(f'Python 과목의 평균 : {hap / 5}')"
   ]
  },
  {
   "cell_type": "code",
   "execution_count": 96,
   "id": "e75b0409",
   "metadata": {},
   "outputs": [
    {
     "data": {
      "text/plain": [
       "76.0"
      ]
     },
     "execution_count": 96,
     "metadata": {},
     "output_type": "execute_result"
    }
   ],
   "source": [
    "# 민수쌤's 풀이방법-1!\n",
    "a = score_dict['Python']\n",
    "sum(a) / 5 # --> 가장 쉬운 방법!"
   ]
  },
  {
   "cell_type": "code",
   "execution_count": 98,
   "id": "3215e6d6",
   "metadata": {},
   "outputs": [
    {
     "name": "stdout",
     "output_type": "stream",
     "text": [
      "파이썬 과목의 평균은 76.0점 입니다.\n"
     ]
    }
   ],
   "source": [
    "# 민수쌤's 풀이방법-2!\n",
    "sum1 = 0\n",
    "a = score_dict['Python']\n",
    "for score in a :\n",
    "    sum1 += score\n",
    "print(f'파이썬 과목의 평균은 {sum1 / 5}점 입니다.')"
   ]
  },
  {
   "cell_type": "markdown",
   "id": "e8bc40d3",
   "metadata": {},
   "source": [
    "##### 📙 2. 각 과목의 평균 구하기"
   ]
  },
  {
   "cell_type": "code",
   "execution_count": 54,
   "id": "97fab903",
   "metadata": {},
   "outputs": [
    {
     "name": "stdout",
     "output_type": "stream",
     "text": [
      "Python 과목의 평균 : 76.0\n",
      "Java 과목의 평균 : 66.0\n",
      "html 과목의 평균 : 76.0\n"
     ]
    }
   ],
   "source": [
    "# 현정's 풀이방법!\n",
    "avg_p = avg_j = avg_h = 0\n",
    "\n",
    "jum_p = score_dict['Python']\n",
    "jum_j = score_dict['Java']\n",
    "jum_h = score_dict['html/css']\n",
    "\n",
    "for i in range(0, 5) :\n",
    "    avg_p += jum_p[i]\n",
    "    avg_j += jum_j[i]\n",
    "    avg_h += jum_h[i]\n",
    "    \n",
    "print(f'Python 과목의 평균 : {avg_p / 5}')\n",
    "print(f'Java 과목의 평균 : {avg_j / 5}')\n",
    "print(f'html 과목의 평균 : {avg_h / 5}')"
   ]
  },
  {
   "cell_type": "code",
   "execution_count": 92,
   "id": "16648302",
   "metadata": {},
   "outputs": [
    {
     "name": "stdout",
     "output_type": "stream",
     "text": [
      "Python 과목의 평균 : 76.0\n",
      "Java 과목의 평균 : 66.0\n",
      "html 과목의 평균 : 76.0\n"
     ]
    }
   ],
   "source": [
    "# 2. 현정's + 민기's 풀이과정!\n",
    "avg_p = avg_j = avg_h = 0\n",
    "\n",
    "jum_p = score_dict['Python']\n",
    "jum_j = score_dict['Java']\n",
    "jum_h = score_dict['html/css']\n",
    "\n",
    "\n",
    "for i in range(len(score_dict[\"이름\"])) : \n",
    "    avg_p += jum_p[i]\n",
    "    avg_j += jum_j[i]\n",
    "    avg_h += jum_h[i]\n",
    "    \n",
    "print(f'Python 과목의 평균 : {avg_p / 5}')\n",
    "print(f'Java 과목의 평균 : {avg_j / 5}')\n",
    "print(f'html 과목의 평균 : {avg_h / 5}')"
   ]
  },
  {
   "cell_type": "code",
   "execution_count": 91,
   "id": "82701a78",
   "metadata": {
    "scrolled": true
   },
   "outputs": [
    {
     "name": "stdout",
     "output_type": "stream",
     "text": [
      "Python의 평균 : 76.0\n",
      "Java 평균 : 66.0\n",
      "html/css의 평균 : 76.0\n"
     ]
    }
   ],
   "source": [
    "# 2. 가연's 풀이방법!\n",
    "python = score_dict.get('Python')\n",
    "java = score_dict.get('Java')\n",
    "html = score_dict.get(\"html/css\")\n",
    "psc = jsc = hsc = 0\n",
    "\n",
    "for i in python :\n",
    "    psc += i\n",
    "for j in java :\n",
    "    jsc += j\n",
    "for k in html :\n",
    "    hsc += k\n",
    "    \n",
    "\n",
    "psc /= len(python)\n",
    "jsc /= len(java)\n",
    "hsc /= len(html)\n",
    "\n",
    "print(f\"Python의 평균 : {psc}\\nJava 평균 : {jsc}\\nhtml/css의 평균 : {hsc}\")"
   ]
  },
  {
   "cell_type": "code",
   "execution_count": 103,
   "id": "0911f451",
   "metadata": {},
   "outputs": [
    {
     "name": "stdout",
     "output_type": "stream",
     "text": [
      "Python의 평균 :  76.0\n",
      "Java의 평균 :  66.0\n",
      "html/css의 평균 :  76.0\n"
     ]
    }
   ],
   "source": [
    "# 민수쌤's 풀이과정-1!\n",
    "avg_py, avg_j, avg_ht = 0, 0, 0\n",
    "\n",
    "for i in score_dict.keys() :\n",
    "    \n",
    "    if i == 'Python' :\n",
    "        avg_py = sum(score_dict[i]) / 5\n",
    "    if i == 'Java' :\n",
    "        avg_j = sum(score_dict[i]) / 5\n",
    "    if i == 'html/css' :\n",
    "        avg_ht = sum(score_dict[i]) / 5\n",
    "        \n",
    "print('Python의 평균 : ', avg_py)\n",
    "print('Java의 평균 : ', avg_j)\n",
    "print('html/css의 평균 : ', avg_ht)"
   ]
  },
  {
   "cell_type": "code",
   "execution_count": 106,
   "id": "0a6cbab9",
   "metadata": {},
   "outputs": [
    {
     "name": "stdout",
     "output_type": "stream",
     "text": [
      "Python 평균 : 76.0\n",
      "Java 평균 : 66.0\n",
      "html/css 평균 : 76.0\n"
     ]
    }
   ],
   "source": [
    "# 민수쌤's 풀이과정-2!\n",
    "avg = 0\n",
    "\n",
    "for i in list(score_dict.keys())[1:] :\n",
    "    avg = sum(score_dict[i]) / 5\n",
    "    print(f'{i} 평균 : {avg}')"
   ]
  },
  {
   "cell_type": "markdown",
   "id": "4629cd9a",
   "metadata": {},
   "source": [
    "##### 📙 3. 이름을 입력 받아서 해당하는 이름이 있으면 그 사람 성적의 평균 구하기"
   ]
  },
  {
   "cell_type": "code",
   "execution_count": 87,
   "id": "da8daf04",
   "metadata": {},
   "outputs": [
    {
     "name": "stdout",
     "output_type": "stream",
     "text": [
      "이름을 정확하게 기입하세요 >> 손지영\n",
      "손지영의 전 과목의 평균 : 83.33333333333333\n"
     ]
    }
   ],
   "source": [
    "# 현정's 풀이방법!\n",
    "avg = avg_p = avg_j = avg_h = 0\n",
    "\n",
    "jum_p = score_dict['Python']\n",
    "jum_j = score_dict['Java']\n",
    "jum_h = score_dict['html/css']\n",
    "\n",
    "name = input('이름을 정확하게 기입하세요 >> ')\n",
    "\n",
    "if name in score_dict['이름'] :\n",
    "    ni = score_dict['이름'].index(name)\n",
    "    \n",
    "    avg_p = jum_p[ni]\n",
    "    avg_j = jum_j[ni]\n",
    "    avg_h = jum_h[ni]\n",
    "    \n",
    "    avg = (avg_p + avg_j +avg_h) / 3\n",
    "    \n",
    "print(f'{name}의 전 과목의 평균 : {avg}')"
   ]
  },
  {
   "cell_type": "code",
   "execution_count": 64,
   "id": "0916f2cb",
   "metadata": {},
   "outputs": [
    {
     "name": "stdout",
     "output_type": "stream",
     "text": [
      "이름을 정확하게 기입하세요 >> 손지영\n",
      "손지영의 전 과목 성적 평균 : 83.33333333333333\n"
     ]
    }
   ],
   "source": [
    "# 3. 민기님's 풀이방법-1!\n",
    "name = input(\"이름을 정확하게 기입하세요 >> \")\n",
    "\n",
    "where = score_dict[\"이름\"].index(name)\n",
    "ps = score_dict[\"Python\"][where]\n",
    "js = score_dict[\"Java\"][where]\n",
    "hs = score_dict[\"html/css\"][where]\n",
    "\n",
    "print(f\"{name}의 전 과목 성적 평균 : {(ps+js+hs)/3}\" )"
   ]
  },
  {
   "cell_type": "code",
   "execution_count": 70,
   "id": "81419952",
   "metadata": {},
   "outputs": [
    {
     "name": "stdout",
     "output_type": "stream",
     "text": [
      "이름을 정확하게 기입하세요 >> 손지영\n",
      "손지영의 전 과목 성적 평균 : 83.33333333333333\n"
     ]
    }
   ],
   "source": [
    "# 3. 민기님's 풀이방법-2!\n",
    "name = input(\"이름을 정확하게 기입하세요 >> \")\n",
    "\n",
    "where = score_dict[\"이름\"].index(name)\n",
    "score = score_dict[\"Python\"][where] + score_dict[\"Java\"][where] + score_dict[\"html/css\"][where]\n",
    "\n",
    "print(f\"{name}의 전 과목 성적 평균 : {(score/3)}\" )"
   ]
  },
  {
   "cell_type": "code",
   "execution_count": 109,
   "id": "053b1104",
   "metadata": {},
   "outputs": [
    {
     "name": "stdout",
     "output_type": "stream",
     "text": [
      "이름을 정확하게 기입하세요 >> 손지영\n",
      "손지영의 전 과목 성적 평균 : 83.33333333333333\n"
     ]
    }
   ],
   "source": [
    "# 3. 민기님's 풀이방법-3!\n",
    "avg=0\n",
    "name = input(\"이름을 정확하게 기입하세요 >> \")\n",
    "where = score_dict[\"이름\"].index(name)\n",
    "for i in list(score_dict.keys())[1:]:\n",
    "    avg += score_dict[i][where]\n",
    "print(f\"{name}의 전 과목 성적 평균 : {(avg/3)}\" )"
   ]
  },
  {
   "cell_type": "code",
   "execution_count": 108,
   "id": "1d494792",
   "metadata": {},
   "outputs": [
    {
     "name": "stdout",
     "output_type": "stream",
     "text": [
      "이름을 정확하게 기입하세요 >> 손지영\n",
      "손지영의 전 과목 성적 평균 : 83.33333333333333\n"
     ]
    }
   ],
   "source": [
    "# 3. 동원's 풀이방법!\n",
    "while True:\n",
    "    a=input('이름을 정확하게 기입하세요 >> ')\n",
    "    \n",
    "    if a in score_dict['이름']:\n",
    "        b=score_dict['이름'].index(a)\n",
    "\n",
    "        total=score_dict['Python'][b] + score_dict['Java'][b] + score_dict['html/css'][b]\n",
    "\n",
    "        print(f'{a}의 전 과목 성적 평균 : {total/3}')\n",
    "        break\n",
    "        \n",
    "    else:\n",
    "        print('이름이 없습니다.')\n",
    "        break"
   ]
  },
  {
   "cell_type": "code",
   "execution_count": 113,
   "id": "93f3d8f3",
   "metadata": {},
   "outputs": [
    {
     "name": "stdout",
     "output_type": "stream",
     "text": [
      "이름을 정확하게 기입하세요 >> 김철수\n",
      "검색 결과가 존재하지 않습니다.\n"
     ]
    }
   ],
   "source": [
    "# 민수T's 풀이방법-1!\n",
    "avg = 0\n",
    "name = input('이름을 정확하게 기입하세요 >> ')\n",
    "\n",
    "# len(score_dict['이름']) -->' 이름' 길이 만큼 반복(i = 0 ~ 4, 5번 반복!)\n",
    "for i in range(len(score_dict['이름'])) :\n",
    "    if name == score_dict['이름'][i] : # 선생님들의 이름이 순서대로 반복하며 꺼내짐\n",
    "        avg = (score_dict['Python'][i] + score_dict['Java'][i] + score_dict['html/css'][i]) / 3\n",
    "        print(f'{name}의 전 과목 성적 평균 : {avg}')\n",
    "    else :\n",
    "        print('검색 결과가 존재하지 않습니다.')\n",
    "        break"
   ]
  },
  {
   "cell_type": "code",
   "execution_count": 114,
   "id": "b4da334c",
   "metadata": {},
   "outputs": [
    {
     "name": "stdout",
     "output_type": "stream",
     "text": [
      "이름을 정확하게 기입하세요 >> 김철수\n",
      "검색 결과가 없습니다.\n"
     ]
    }
   ],
   "source": [
    "# 민수T's 풀이방법-2!\n",
    "avg = 0\n",
    "name = input('이름을 정확하게 기입하세요 >> ')\n",
    "check = True\n",
    "\n",
    "# len(score_dict['이름']) -->' 이름' 길이 만큼 반복(i = 0 ~ 4, 5번 반복!)\n",
    "for i in range(len(score_dict['이름'])) :\n",
    "    if name == score_dict['이름'][i] : # 선생님들의 이름이 순서대로 반복하며 꺼내짐\n",
    "        avg = (score_dict['Python'][i] + score_dict['Java'][i] + score_dict['html/css'][i]) / 3\n",
    "        print(f'{name}의 전 과목 성적 평균 : {avg}')\n",
    "        check = False\n",
    "        print('검색 결과가 존재하지 않습니다.')\n",
    "        \n",
    "if check : # 이름이 없었다\n",
    "    print('검색 결과가 없습니다.')"
   ]
  }
 ],
 "metadata": {
  "kernelspec": {
   "display_name": "Python 3 (ipykernel)",
   "language": "python",
   "name": "python3"
  },
  "language_info": {
   "codemirror_mode": {
    "name": "ipython",
    "version": 3
   },
   "file_extension": ".py",
   "mimetype": "text/x-python",
   "name": "python",
   "nbconvert_exporter": "python",
   "pygments_lexer": "ipython3",
   "version": "3.11.5"
  }
 },
 "nbformat": 4,
 "nbformat_minor": 5
}
