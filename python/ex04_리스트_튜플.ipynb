{
 "cells": [
  {
   "cell_type": "markdown",
   "id": "16c5b8ac",
   "metadata": {},
   "source": [
    "### 🧡 리스트란? 🧡\n",
    " - list\n",
    " - 파이썬의 자료구조 형태 중 하나\n",
    " - 순서가 있는 수정 가능한 객체의 집합 : 추가, 수정, 삭제 가능\n",
    " - 기호는 대괄호([])를 사용하고, 내부의 요소는 콤마(,)로 구분"
   ]
  },
  {
   "cell_type": "markdown",
   "id": "d4e7471f",
   "metadata": {},
   "source": [
    "#### 💛 리스트의 기본 구조"
   ]
  },
  {
   "cell_type": "code",
   "execution_count": 4,
   "id": "667b7103",
   "metadata": {},
   "outputs": [
    {
     "name": "stdout",
     "output_type": "stream",
     "text": [
      "[]\n",
      "[1, 2, 3]\n",
      "['my', 'name']\n",
      "[1, 'my', 'name']\n",
      "[1, ['my', 'name']]\n"
     ]
    }
   ],
   "source": [
    "# 빈 리스트\n",
    "lst1 = []\n",
    "print(lst1)\n",
    "\n",
    "# 숫자형 요소값을 담은 리스트\n",
    "lst2 = [1, 2, 3]\n",
    "print(lst2)\n",
    "\n",
    "# 문자열 요소값을 담은 리스트\n",
    "lst3 = ['my', 'name']\n",
    "print(lst3)\n",
    "\n",
    "# 숫자형과 문자열을 같이 담고 있는 리스트\n",
    "lst4 = [1, 'my', 'name']\n",
    "print(lst4)\n",
    "\n",
    "# 숫자형과 리스트 요소를 가지는 리스트\n",
    "lst5 = [1, ['my', 'name']]\n",
    "print(lst5)"
   ]
  },
  {
   "cell_type": "markdown",
   "id": "6d784027",
   "metadata": {},
   "source": [
    "- 리스트는 자료를 변수 하나에 한 개만 저장하는 것이 아니라!\n",
    "- 여러 개를 동시에 저장할 수 있도록 하는 자료 구조\n",
    "- 중요한 포인트! --> 더 많은 데이터(리스트의 요소단위)를 저장하기 위함"
   ]
  },
  {
   "cell_type": "markdown",
   "id": "c9dc279a",
   "metadata": {},
   "source": [
    "### 💚 리스트 인덱싱&슬라이싱\n",
    "- 리스트에 여러 값을 저장하고 각 데이터 값에 적근하는 방법\n",
    "- 인덱싱(Indexing) : 무언가를 '가리킨다'는 의미\n",
    "- 슬라이싱(Slicing) : 무언가를 '잘라낸다'는 의미"
   ]
  },
  {
   "cell_type": "markdown",
   "id": "797a036a",
   "metadata": {},
   "source": [
    "### 🤍 리스트 인덱싱\n",
    "- 리스트 이름[인덱스번호]"
   ]
  },
  {
   "cell_type": "code",
   "execution_count": 11,
   "id": "6d48f6a0",
   "metadata": {},
   "outputs": [
    {
     "name": "stdout",
     "output_type": "stream",
     "text": [
      "2(이)라는 요소 값 접근 :  2\n",
      "7(이)라는 요소 값 접근 :  7\n",
      "10(이)라는 요소 값 접근 :  10\n",
      "\n",
      "0번째와 4번째 요소 값 더하기! :  12\n"
     ]
    }
   ],
   "source": [
    "lst1 = [2, 5, 7, 9, 10]\n",
    "lst1\n",
    "\n",
    "# []를 사용해서 인덱스 번호에 접근\n",
    "print('2(이)라는 요소 값 접근 : ', lst1[0])\n",
    "print('7(이)라는 요소 값 접근 : ', lst1[2])\n",
    "print('10(이)라는 요소 값 접근 : ', lst1[4]) # 또는 lst1[-1]\n",
    "\n",
    "# 인덱싱을 하고나면 자료의 형태가 변한다?!\n",
    "# --> 요소값끼리 인덱싱해서 연산하는게 가능!\n",
    "print('\\n0번째와 4번째 요소 값 더하기! : ', lst1[0] + lst1[4])"
   ]
  },
  {
   "cell_type": "markdown",
   "id": "a7c53b2b",
   "metadata": {},
   "source": [
    "#### 🖤 리스트 인덱싱 예제\n",
    " - 'b'라는 값에 접근해 보시오."
   ]
  },
  {
   "cell_type": "code",
   "execution_count": 18,
   "id": "87d5cb41",
   "metadata": {},
   "outputs": [
    {
     "name": "stdout",
     "output_type": "stream",
     "text": [
      "[1, 2, 3, ['a', 'b', 'c']]\n",
      "b\n"
     ]
    }
   ],
   "source": [
    "lst2 = [1, 2, 3, ['a', 'b', 'c']]\n",
    "print(lst2)\n",
    "print(lst2[3][1])"
   ]
  },
  {
   "cell_type": "code",
   "execution_count": 21,
   "id": "4883a22d",
   "metadata": {},
   "outputs": [
    {
     "data": {
      "text/plain": [
       "['a', 'b', 'c']"
      ]
     },
     "execution_count": 21,
     "metadata": {},
     "output_type": "execute_result"
    }
   ],
   "source": [
    "# ['a', 'b', 'c'']라는 데이터에 접근\n",
    "lst3 = lst2[3]\n",
    "lst3"
   ]
  },
  {
   "cell_type": "code",
   "execution_count": 25,
   "id": "989112dd",
   "metadata": {},
   "outputs": [
    {
     "name": "stdout",
     "output_type": "stream",
     "text": [
      "b\n",
      "b\n"
     ]
    }
   ],
   "source": [
    "# lst3에서 다시 'b'라는 데이터에 접근\n",
    "print(lst3[1])\n",
    "print(lst2[3][1]) # 자료 형태 : int"
   ]
  },
  {
   "cell_type": "markdown",
   "id": "f335597d",
   "metadata": {},
   "source": [
    "#### 🤍 리스트 슬라이싱\n",
    " - 리스트 이름[시작 인덱스 값:끝 인덱스 값 + 1]\n",
    " - 시작 인덱스부터 끝 인덱스까지 범위 값을 반환(끝 인덱스는 포함되지 않는다.)"
   ]
  },
  {
   "cell_type": "code",
   "execution_count": 26,
   "id": "2cda51cc",
   "metadata": {},
   "outputs": [
    {
     "data": {
      "text/plain": [
       "[1, 2]"
      ]
     },
     "execution_count": 26,
     "metadata": {},
     "output_type": "execute_result"
    }
   ],
   "source": [
    "lst3 = [0, 1, 2, 3, 4]\n",
    "\n",
    "# 💗 1부터 2 요소 값에 접근\n",
    "\n",
    "lst3[1:3] # 자료 형태 : 리스트"
   ]
  },
  {
   "cell_type": "code",
   "execution_count": 27,
   "id": "3b22a435",
   "metadata": {},
   "outputs": [
    {
     "data": {
      "text/plain": [
       "[0, 1]"
      ]
     },
     "execution_count": 27,
     "metadata": {},
     "output_type": "execute_result"
    }
   ],
   "source": [
    "# 💗 0, 1 요소 값에 접근\n",
    "lst3[0:2] # = lst3[:2]"
   ]
  },
  {
   "cell_type": "code",
   "execution_count": 28,
   "id": "e2a1cdb5",
   "metadata": {},
   "outputs": [
    {
     "data": {
      "text/plain": [
       "[3, 4]"
      ]
     },
     "execution_count": 28,
     "metadata": {},
     "output_type": "execute_result"
    }
   ],
   "source": [
    "# 💗 3, 4 요소 값에 접근\n",
    "lst3[-2:] # = lst3[3:] = lst3[3:5]"
   ]
  },
  {
   "cell_type": "code",
   "execution_count": 29,
   "id": "9ec43aa1",
   "metadata": {},
   "outputs": [
    {
     "data": {
      "text/plain": [
       "[0, 1, 2, 3, 4]"
      ]
     },
     "execution_count": 29,
     "metadata": {},
     "output_type": "execute_result"
    }
   ],
   "source": [
    "# 💗 리스트에 있는 모든 요소 값에 접근\n",
    "lst3[0:5] # = lst3[:]\n",
    "\n",
    "#슬라이싱을 통해서 나온 결과 값의 자료형태 -> list 형태"
   ]
  },
  {
   "cell_type": "markdown",
   "id": "281fb758",
   "metadata": {},
   "source": [
    "#### 💚 리스트 연산\n",
    " - 리스트와 리스트끼리 더하면?"
   ]
  },
  {
   "cell_type": "code",
   "execution_count": 30,
   "id": "267aa1b4",
   "metadata": {},
   "outputs": [
    {
     "data": {
      "text/plain": [
       "[1, 2, 3, 3, 4, 5, 6]"
      ]
     },
     "execution_count": 30,
     "metadata": {},
     "output_type": "execute_result"
    }
   ],
   "source": [
    "lst4 = [1, 2, 3]\n",
    "lst5 = [3, 4, 5, 6]\n",
    "\n",
    "lst4 + lst5 # 결과는 연결 연산을 하게 된다, 숫자끼리(요소끼리) 연산X "
   ]
  },
  {
   "cell_type": "markdown",
   "id": "76fdf81a",
   "metadata": {},
   "source": [
    "### 🤍 ⭐⭐⭐ 리스트 관련함수 ⭐⭐⭐"
   ]
  },
  {
   "cell_type": "markdown",
   "id": "4a78fa2e",
   "metadata": {},
   "source": [
    "#### 🖤 리스트에 값을 추가하는 함수 : append(), insert()\n",
    " - append() : 리스트의 맨 뒤에 값을 추가하는 함수\n",
    " - insert() : 사용자가 지정한 위치에 값을 추가하는 함수"
   ]
  },
  {
   "cell_type": "code",
   "execution_count": 39,
   "id": "70aca115",
   "metadata": {},
   "outputs": [
    {
     "data": {
      "text/plain": [
       "['사과', '포도', ['수박', '멜론'], '복숭아', '딸기', '오렌지']"
      ]
     },
     "execution_count": 39,
     "metadata": {},
     "output_type": "execute_result"
    }
   ],
   "source": [
    "# 💗 append 함수 : 리스트이름.append(값)\n",
    "lst_fs = ['사과', '포도', ['수박', '멜론'], '복숭아', '딸기', '오렌지']\n",
    "lst_fs"
   ]
  },
  {
   "cell_type": "code",
   "execution_count": 38,
   "id": "08ae13d7",
   "metadata": {},
   "outputs": [
    {
     "data": {
      "text/plain": [
       "['사과', '딸기', '수박', '블루베리']"
      ]
     },
     "execution_count": 38,
     "metadata": {},
     "output_type": "execute_result"
    }
   ],
   "source": [
    "# 💦 내가 좋아하는 과일만 인덱싱해서 빈 리스트 안에 차곡차곡 집어넣기\n",
    "# 빈 리스트의 이름은 choice_lst 라고 함\n",
    "choice_lst = [] # 빈 리스트 선언\n",
    "choice_lst.append(lst_fs[0])    # 사과\n",
    "choice_lst.append(lst_fs[-2])   # 딸기    # = choice_lst.append(lst_fs[5])\n",
    "choice_lst.append(lst_fs[2][0]) # 수박\n",
    "choice_lst.append('블루베리')\n",
    "choice_lst"
   ]
  },
  {
   "cell_type": "code",
   "execution_count": 43,
   "id": "35724d46",
   "metadata": {},
   "outputs": [
    {
     "data": {
      "text/plain": [
       "['사과', '딸기', '수박', '블루베리', '사과', '사과', '사과', '사과']"
      ]
     },
     "execution_count": 43,
     "metadata": {},
     "output_type": "execute_result"
    }
   ],
   "source": [
    "choice_lst.append(lst_fs[0])\n",
    "choice_lst"
   ]
  },
  {
   "cell_type": "markdown",
   "id": "81072206",
   "metadata": {},
   "source": [
    "- 💗 insert() 함수"
   ]
  },
  {
   "cell_type": "code",
   "execution_count": 2,
   "id": "93a7c3e1",
   "metadata": {},
   "outputs": [],
   "source": [
    "# insert() : 사용자가 지정한 위치에 값을 추가하는 함수\n",
    "lst5 = [0, 1, 2, 3, 4]\n",
    "lst5.insert(1, 5)"
   ]
  },
  {
   "cell_type": "code",
   "execution_count": 3,
   "id": "45709b56",
   "metadata": {},
   "outputs": [
    {
     "data": {
      "text/plain": [
       "[0, 5, 1, 2, 3, 4]"
      ]
     },
     "execution_count": 3,
     "metadata": {},
     "output_type": "execute_result"
    }
   ],
   "source": [
    "lst5 # 1번 인덱스 자리에 5라는 값을 추가하면 기존에 있던 데이터들이 한 칸씩 뒤로 밀려남"
   ]
  },
  {
   "cell_type": "markdown",
   "id": "8b8a88a0",
   "metadata": {},
   "source": [
    "- 💦 리스트 insert 실습예제"
   ]
  },
  {
   "cell_type": "markdown",
   "id": "1fa3e363",
   "metadata": {},
   "source": [
    "정수 형태의 인덱스 값과 노래 제목, 가수명을 각각 입력 받은 후 변수에 저장하고, insert 함수를 이용하여 리스트 music_lst에 새로운 값을 추가하시오."
   ]
  },
  {
   "cell_type": "code",
   "execution_count": 8,
   "id": "e54e87e9",
   "metadata": {},
   "outputs": [
    {
     "data": {
      "text/plain": [
       "[['홀씨', '아이유'], ['Butter', '방탄소년단'], ['아파트', '윤수일']]"
      ]
     },
     "execution_count": 8,
     "metadata": {},
     "output_type": "execute_result"
    }
   ],
   "source": [
    "music_lst = [['홀씨', '아이유'], ['Butter', '방탄소년단'], ['아파트', '윤수일']]\n",
    "music_lst"
   ]
  },
  {
   "cell_type": "code",
   "execution_count": 10,
   "id": "cc48f97a",
   "metadata": {},
   "outputs": [
    {
     "name": "stdout",
     "output_type": "stream",
     "text": [
      "인덱스 위치 입력 >> 3\n",
      "노래 제목 입력 >> shopper\n",
      "아티스트 입력 >> 아이유\n",
      "music_lst :  [['홀씨', '아이유'], ['To.X', '태연'], ['Butter', '방탄소년단'], ['shopper', '아이유'], ['아파트', '윤수일']]\n"
     ]
    }
   ],
   "source": [
    "loc = int(input('인덱스 위치 입력 >> '))\n",
    "song = input('노래 제목 입력 >> ')\n",
    "singer = input('아티스트 입력 >> ')\n",
    "\n",
    "# 리스트이름.insert(인덱스 위치, 집어넣을 값)\n",
    "music_lst.insert(loc, [song, singer])\n",
    "print('music_lst : ', music_lst)"
   ]
  },
  {
   "cell_type": "markdown",
   "id": "89cfab51",
   "metadata": {},
   "source": [
    "#### 💚 리스트 수정\n",
    "- 리스티이름[위치] = [타입]"
   ]
  },
  {
   "cell_type": "code",
   "execution_count": 11,
   "id": "09904843",
   "metadata": {},
   "outputs": [
    {
     "data": {
      "text/plain": [
       "[0, 1, 2, 3, 4]"
      ]
     },
     "execution_count": 11,
     "metadata": {},
     "output_type": "execute_result"
    }
   ],
   "source": [
    "lst6 = [0, 1, 2, 3, 4]\n",
    "lst6"
   ]
  },
  {
   "cell_type": "code",
   "execution_count": 13,
   "id": "56b52747",
   "metadata": {},
   "outputs": [
    {
     "name": "stdout",
     "output_type": "stream",
     "text": [
      "수정 전 :  1\n",
      "수정 후 :  7\n"
     ]
    }
   ],
   "source": [
    "print('수정 전 : ', lst6[1])\n",
    "lst6[1] = 7 # 1번 인덱스 자리에 있는 요소를 7로 수정하겠다!\n",
    "print('수정 후 : ', lst6[1])"
   ]
  },
  {
   "cell_type": "code",
   "execution_count": 16,
   "id": "01ec1e93",
   "metadata": {
    "collapsed": true
   },
   "outputs": [
    {
     "ename": "TypeError",
     "evalue": "can only assign an iterable",
     "output_type": "error",
     "traceback": [
      "\u001b[1;31m---------------------------------------------------------------------------\u001b[0m",
      "\u001b[1;31mTypeError\u001b[0m                                 Traceback (most recent call last)",
      "Cell \u001b[1;32mIn[16], line 3\u001b[0m\n\u001b[0;32m      1\u001b[0m lst6[\u001b[38;5;241m2\u001b[39m:\u001b[38;5;241m4\u001b[39m] \u001b[38;5;66;03m# 슬라이싱 한 대상도 수정이 될까?\u001b[39;00m\n\u001b[1;32m----> 3\u001b[0m lst6[\u001b[38;5;241m2\u001b[39m:\u001b[38;5;241m4\u001b[39m] \u001b[38;5;241m=\u001b[39m \u001b[38;5;241m7\u001b[39m\n",
      "\u001b[1;31mTypeError\u001b[0m: can only assign an iterable"
     ]
    }
   ],
   "source": [
    "lst6[2:4] # 🤍 슬라이싱 한 대상도 수정이 될까?\n",
    "\n",
    "lst6[2:4] = 7 # error!\n",
    "\n",
    "# TypeError: can only assign an iterable\n",
    "# 형태 오류 : 반복 가능한 대상만 (수정) 가능"
   ]
  },
  {
   "cell_type": "code",
   "execution_count": 18,
   "id": "6d638a00",
   "metadata": {},
   "outputs": [
    {
     "name": "stdout",
     "output_type": "stream",
     "text": [
      "[0, 7, 2, 3, 4]\n",
      "[0, 7, 7, 4]\n"
     ]
    }
   ],
   "source": [
    "print(lst6)\n",
    "\n",
    "lst6[2:4] = [7] # 🖤 데이터 형태를 맞춰주면 수정이 가능하다 -> 대괄호([])\n",
    "print(lst6)"
   ]
  },
  {
   "cell_type": "markdown",
   "id": "df584849",
   "metadata": {},
   "source": [
    "#### 💚 리스트 삭제\n",
    "- del 키워드 이용\n",
    "- remove() 함수 사용"
   ]
  },
  {
   "cell_type": "code",
   "execution_count": 19,
   "id": "a5e223de",
   "metadata": {},
   "outputs": [
    {
     "name": "stdout",
     "output_type": "stream",
     "text": [
      "[0, 2, 3, 4]\n"
     ]
    }
   ],
   "source": [
    "# 🤍 del 키워드 사용\n",
    "lst7 = [0, 1, 2, 3, 4]\n",
    "lst7 # 1번 인덱스 값 삭제\n",
    "\n",
    "del lst7[1]\n",
    "print(lst7)"
   ]
  },
  {
   "cell_type": "code",
   "execution_count": 20,
   "id": "8bcf7e2c",
   "metadata": {},
   "outputs": [
    {
     "name": "stdout",
     "output_type": "stream",
     "text": [
      "[0, 2, 3, 4]\n"
     ]
    }
   ],
   "source": [
    "# 🤍 remove() 함수 사용\n",
    "lst7 = [0, 1, 2, 3, 4]\n",
    "\n",
    "# remove() 함수를 사용해서 1이라는 요소값 삭제\n",
    "lst7.remove(1)\n",
    "print(lst7)"
   ]
  },
  {
   "cell_type": "code",
   "execution_count": 21,
   "id": "b61603d2",
   "metadata": {
    "collapsed": true
   },
   "outputs": [
    {
     "ename": "ValueError",
     "evalue": "list.remove(x): x not in list",
     "output_type": "error",
     "traceback": [
      "\u001b[1;31m---------------------------------------------------------------------------\u001b[0m",
      "\u001b[1;31mValueError\u001b[0m                                Traceback (most recent call last)",
      "Cell \u001b[1;32mIn[21], line 1\u001b[0m\n\u001b[1;32m----> 1\u001b[0m lst7\u001b[38;5;241m.\u001b[39mremove(\u001b[38;5;241m1\u001b[39m)\n",
      "\u001b[1;31mValueError\u001b[0m: list.remove(x): x not in list"
     ]
    }
   ],
   "source": [
    "lst7.remove(1) # 1이라는 값이 리스트 안에서 이미 삭제되었기 때문에 오류!"
   ]
  },
  {
   "cell_type": "markdown",
   "id": "03d97aab",
   "metadata": {},
   "source": [
    "#### 💚 리스트 정렬\n",
    "- sort() : 오름차순\n",
    "- reverse() : 내림차순\n",
    "- sort(reverse = True) : 내림차순"
   ]
  },
  {
   "cell_type": "code",
   "execution_count": 23,
   "id": "8c43e2cb",
   "metadata": {},
   "outputs": [],
   "source": [
    "lst8 = [9, 77, 13, 51, 100, 3]\n",
    "lst8.sort()"
   ]
  },
  {
   "cell_type": "code",
   "execution_count": 24,
   "id": "91df2ac9",
   "metadata": {},
   "outputs": [
    {
     "data": {
      "text/plain": [
       "[3, 9, 13, 51, 77, 100]"
      ]
     },
     "execution_count": 24,
     "metadata": {},
     "output_type": "execute_result"
    }
   ],
   "source": [
    "lst8 # 정렬 기준 : 오름차순"
   ]
  },
  {
   "cell_type": "markdown",
   "id": "fa02d830",
   "metadata": {},
   "source": [
    "🤍 리스트 순서를 역순으로 뒤집기"
   ]
  },
  {
   "cell_type": "code",
   "execution_count": 26,
   "id": "215f88ff",
   "metadata": {},
   "outputs": [
    {
     "data": {
      "text/plain": [
       "[100, 77, 51, 13, 9, 3]"
      ]
     },
     "execution_count": 26,
     "metadata": {},
     "output_type": "execute_result"
    }
   ],
   "source": [
    "lst8.reverse() # 리스트 순서를 역순으로 뒤집는 함수\n",
    "lst8"
   ]
  },
  {
   "cell_type": "code",
   "execution_count": 29,
   "id": "023e11be",
   "metadata": {},
   "outputs": [
    {
     "name": "stdout",
     "output_type": "stream",
     "text": [
      "[100, 77, 51, 13, 9, 3]\n"
     ]
    }
   ],
   "source": [
    "# 🖤 << Tip >>\n",
    "lst8 = [9, 77, 13, 51, 100, 3]\n",
    "lst8.sort(reverse = True) # 💗 Shift + tab : 함수의 속성을 볼 수 있는 키워드\n",
    "print(lst8)"
   ]
  },
  {
   "cell_type": "markdown",
   "id": "317b21ba",
   "metadata": {},
   "source": [
    "#### 💚 리스트 값 위치 반환 및 제거 함수\n",
    "- 리스트이름.index()\n",
    "- 리스트이름.pop() "
   ]
  },
  {
   "cell_type": "code",
   "execution_count": 31,
   "id": "e010eeb8",
   "metadata": {},
   "outputs": [
    {
     "data": {
      "text/plain": [
       "2"
      ]
     },
     "execution_count": 31,
     "metadata": {},
     "output_type": "execute_result"
    }
   ],
   "source": [
    "lst9 = ['a', 'b', 'c', 'd', 'e', 'f']\n",
    "lst9.index('c') # 'c'라는 요소가 있는 인덱스 위치 반환"
   ]
  },
  {
   "cell_type": "code",
   "execution_count": 35,
   "id": "0a6d37d8",
   "metadata": {},
   "outputs": [
    {
     "data": {
      "text/plain": [
       "'e'"
      ]
     },
     "execution_count": 35,
     "metadata": {},
     "output_type": "execute_result"
    }
   ],
   "source": [
    "lst9.pop() # 리스트 맨 뒤에 있는 값을 찾아서 반환해준 후 삭제"
   ]
  },
  {
   "cell_type": "code",
   "execution_count": 36,
   "id": "dc5f2099",
   "metadata": {},
   "outputs": [
    {
     "data": {
      "text/plain": [
       "['a', 'b', 'c', 'd']"
      ]
     },
     "execution_count": 36,
     "metadata": {},
     "output_type": "execute_result"
    }
   ],
   "source": [
    "lst9"
   ]
  },
  {
   "cell_type": "markdown",
   "id": "24a22eed",
   "metadata": {},
   "source": [
    "#### 💚 ⭐⭐⭐ 리스트 길이 확인 ⭐⭐⭐\n",
    "- len(리스트이름)"
   ]
  },
  {
   "cell_type": "code",
   "execution_count": 37,
   "id": "b8835ece",
   "metadata": {},
   "outputs": [
    {
     "data": {
      "text/plain": [
       "6"
      ]
     },
     "execution_count": 37,
     "metadata": {},
     "output_type": "execute_result"
    }
   ],
   "source": [
    "lst10 = [0, 1, 2, 3, 4, 5]\n",
    "len(lst10)"
   ]
  },
  {
   "cell_type": "markdown",
   "id": "b254f0cd",
   "metadata": {},
   "source": [
    "- 길이 != 인덱스 번호\n",
    "- 길이 = 요소의 개수 = 6 --> 인덱스 끝번호 + 1\n",
    "- 인덱스 끝번호 = 5"
   ]
  },
  {
   "cell_type": "markdown",
   "id": "f7480f17",
   "metadata": {},
   "source": [
    "### 🧡 튜플 🧡💛💚🤍🖤💗💦\n",
    "- 파이썬의 자료 구조 형태 중 하나\n",
    "- 순서가 있는 집합으로 \"추가, 수정, 삭제 불가능\"\n",
    "- 기호는소괄호()를 사용, 튜플 내부 요소는 콤마로 구분"
   ]
  },
  {
   "cell_type": "code",
   "execution_count": 39,
   "id": "850a20fa",
   "metadata": {},
   "outputs": [
    {
     "data": {
      "text/plain": [
       "(1, 2, ('my', 'name'))"
      ]
     },
     "execution_count": 39,
     "metadata": {},
     "output_type": "execute_result"
    }
   ],
   "source": [
    "a = ()\n",
    "\n",
    "b = (1, 2, 3)\n",
    "\n",
    "c = ('my', 'name', 'is', 'HJ')\n",
    "\n",
    "d = (1, 2, 'my', 'name')\n",
    "\n",
    "e = (1, 2, ('my', 'name'))\n",
    "\n",
    "e"
   ]
  },
  {
   "cell_type": "markdown",
   "id": "9dae8f2b",
   "metadata": {},
   "source": [
    "#### 💛 튜플 인덱싱\n",
    "튜플이름[인덱스번호]"
   ]
  },
  {
   "cell_type": "code",
   "execution_count": 40,
   "id": "f132ca0d",
   "metadata": {},
   "outputs": [
    {
     "data": {
      "text/plain": [
       "(0, 1, 2, 3, ('a', 'b', 'c'), 5)"
      ]
     },
     "execution_count": 40,
     "metadata": {},
     "output_type": "execute_result"
    }
   ],
   "source": [
    "tp1 = (0, 1, 2, 3, ('a', 'b', 'c'), 5)\n",
    "tp1"
   ]
  },
  {
   "cell_type": "code",
   "execution_count": 41,
   "id": "2dccf3a3",
   "metadata": {},
   "outputs": [
    {
     "data": {
      "text/plain": [
       "2"
      ]
     },
     "execution_count": 41,
     "metadata": {},
     "output_type": "execute_result"
    }
   ],
   "source": [
    "# 2번 인덱스 위치 값에 접근\n",
    "tp1[2]"
   ]
  },
  {
   "cell_type": "code",
   "execution_count": 42,
   "id": "6e85aaa5",
   "metadata": {},
   "outputs": [
    {
     "data": {
      "text/plain": [
       "('a', 'b', 'c')"
      ]
     },
     "execution_count": 42,
     "metadata": {},
     "output_type": "execute_result"
    }
   ],
   "source": [
    "# 4번 인덱스 위치 값에 접근\n",
    "tp1[4]"
   ]
  },
  {
   "cell_type": "markdown",
   "id": "6ddf7172",
   "metadata": {},
   "source": [
    "#### 💛 튜플 슬라이싱\n",
    "튜플 이름[시작 인덱스 : 끝 인덱스 + 1]"
   ]
  },
  {
   "cell_type": "code",
   "execution_count": 43,
   "id": "4b79528c",
   "metadata": {},
   "outputs": [
    {
     "data": {
      "text/plain": [
       "(0, 1, 2, 3, ('a', 'b', 'c'), 5)"
      ]
     },
     "execution_count": 43,
     "metadata": {},
     "output_type": "execute_result"
    }
   ],
   "source": [
    "tp1"
   ]
  },
  {
   "cell_type": "code",
   "execution_count": 44,
   "id": "e7a9e53d",
   "metadata": {},
   "outputs": [
    {
     "data": {
      "text/plain": [
       "(1, 2)"
      ]
     },
     "execution_count": 44,
     "metadata": {},
     "output_type": "execute_result"
    }
   ],
   "source": [
    "# 1, 2라는 요소값에 접근\n",
    "tp1[1:3]"
   ]
  },
  {
   "cell_type": "code",
   "execution_count": 45,
   "id": "fd1367af",
   "metadata": {},
   "outputs": [
    {
     "data": {
      "text/plain": [
       "(3, ('a', 'b', 'c'), 5)"
      ]
     },
     "execution_count": 45,
     "metadata": {},
     "output_type": "execute_result"
    }
   ],
   "source": [
    "# 인덱스 3번부터 요소 끝까지 접근\n",
    "tp1[3:]"
   ]
  },
  {
   "cell_type": "markdown",
   "id": "3919e992",
   "metadata": {},
   "source": [
    "#### 💛 튜플은 내부 요소 변경 불가능"
   ]
  },
  {
   "cell_type": "code",
   "execution_count": 46,
   "id": "4c5c8076",
   "metadata": {
    "collapsed": true
   },
   "outputs": [
    {
     "ename": "TypeError",
     "evalue": "'tuple' object does not support item assignment",
     "output_type": "error",
     "traceback": [
      "\u001b[1;31m---------------------------------------------------------------------------\u001b[0m",
      "\u001b[1;31mTypeError\u001b[0m                                 Traceback (most recent call last)",
      "Cell \u001b[1;32mIn[46], line 2\u001b[0m\n\u001b[0;32m      1\u001b[0m tp2 \u001b[38;5;241m=\u001b[39m (\u001b[38;5;124m'\u001b[39m\u001b[38;5;124ma\u001b[39m\u001b[38;5;124m'\u001b[39m, \u001b[38;5;124m'\u001b[39m\u001b[38;5;124mb\u001b[39m\u001b[38;5;124m'\u001b[39m, \u001b[38;5;124m'\u001b[39m\u001b[38;5;124mc\u001b[39m\u001b[38;5;124m'\u001b[39m)\n\u001b[1;32m----> 2\u001b[0m tp2[\u001b[38;5;241m1\u001b[39m] \u001b[38;5;241m=\u001b[39m \u001b[38;5;124m'\u001b[39m\u001b[38;5;124md\u001b[39m\u001b[38;5;124m'\u001b[39m\n",
      "\u001b[1;31mTypeError\u001b[0m: 'tuple' object does not support item assignment"
     ]
    }
   ],
   "source": [
    "tp2 = ('a', 'b', 'c')\n",
    "tp2[1] = 'd' # error!\n",
    "# TypeError: 'tuple' object does not support item assignment\n",
    "# 튜플은 내부 요소 값의 변경이 불가능하다!"
   ]
  },
  {
   "cell_type": "markdown",
   "id": "154be814",
   "metadata": {},
   "source": [
    "#### 💛 튜플 길이 확인\n",
    "- len(튜플 이름)"
   ]
  },
  {
   "cell_type": "code",
   "execution_count": 47,
   "id": "32b6a753",
   "metadata": {},
   "outputs": [
    {
     "data": {
      "text/plain": [
       "('a', 'b', 'c')"
      ]
     },
     "execution_count": 47,
     "metadata": {},
     "output_type": "execute_result"
    }
   ],
   "source": [
    "tp2"
   ]
  },
  {
   "cell_type": "code",
   "execution_count": 48,
   "id": "1a357006",
   "metadata": {},
   "outputs": [
    {
     "data": {
      "text/plain": [
       "3"
      ]
     },
     "execution_count": 48,
     "metadata": {},
     "output_type": "execute_result"
    }
   ],
   "source": [
    "len(tp2)"
   ]
  },
  {
   "cell_type": "markdown",
   "id": "d7b055c8",
   "metadata": {},
   "source": [
    "#### 💛 해당 데이터의 포함 여부 확인\n",
    "- 멤버 연산자 : 포함관계를 boolean 자료형으로 출력"
   ]
  },
  {
   "cell_type": "code",
   "execution_count": 49,
   "id": "d7af82ba",
   "metadata": {},
   "outputs": [
    {
     "data": {
      "text/plain": [
       "True"
      ]
     },
     "execution_count": 49,
     "metadata": {},
     "output_type": "execute_result"
    }
   ],
   "source": [
    "str1 = '파이썬 최고!'\n",
    "'최고' in str1 # in 키워드"
   ]
  },
  {
   "cell_type": "code",
   "execution_count": 51,
   "id": "893d8f14",
   "metadata": {},
   "outputs": [
    {
     "data": {
      "text/plain": [
       "True"
      ]
     },
     "execution_count": 51,
     "metadata": {},
     "output_type": "execute_result"
    }
   ],
   "source": [
    "'best' not in str1 # in인 경우 -> False"
   ]
  },
  {
   "attachments": {
    "image.png": {
     "image/png": "[encoded data removed]"
    }
   },
   "cell_type": "markdown",
   "id": "7e889416",
   "metadata": {},
   "source": [
    "🧡 실습 예제 🧡\n",
    "- 다음과 같이 리스트에 사용자가 입력한 글자가 어디에 포함되어 있는지 출력하는 프로그램을 만들어보자.\n",
    "![image.png](attachment:image.png)"
   ]
  },
  {
   "cell_type": "code",
   "execution_count": 85,
   "id": "63ba1d6c",
   "metadata": {},
   "outputs": [],
   "source": [
    "lst = ['딸기', '바나나', '수박', '체리', '포도', '한라봉', '블랙사파이어']"
   ]
  },
  {
   "cell_type": "code",
   "execution_count": 62,
   "id": "a70628ad",
   "metadata": {},
   "outputs": [
    {
     "name": "stdout",
     "output_type": "stream",
     "text": [
      "*********************************************\n",
      "검색할 문자를 입력하세요 >> 오렌지\n",
      "오렌지(은)는 리스트에 들어있지 않습니다.\n",
      "*********************************************\n"
     ]
    }
   ],
   "source": [
    "print('*' * 45)\n",
    "\n",
    "frt = input('검색할 문자를 입력하세요 >> ')\n",
    "\n",
    "if frt in lst :\n",
    "    print(f'{frt}(은)는 리스트 {lst.index(frt)}번째에 들어있습니다.')\n",
    "else : \n",
    "    print(f'{frt}(은)는 리스트에 들어있지 않습니다.')\n",
    "    \n",
    "print('*' * 45)"
   ]
  },
  {
   "cell_type": "code",
   "execution_count": 87,
   "id": "3f4b37dd",
   "metadata": {},
   "outputs": [
    {
     "name": "stdout",
     "output_type": "stream",
     "text": [
      "*********************************************\n",
      "검색할 문자를 입력하세요 >> 귤\n",
      "귤(은)는 리스트에 들어있지 않아 추가했습니다.\n",
      "리스트 :  ['딸기', '바나나', '수박', '체리', '포도', '한라봉', '블랙사파이어', '귤']\n",
      "*********************************************\n"
     ]
    }
   ],
   "source": [
    "print('*' * 45)\n",
    "\n",
    "frt = input('검색할 문자를 입력하세요 >> ')\n",
    "\n",
    "if frt in lst :\n",
    "    print(f'{frt}(은)는 리스트 {lst.index(frt)}번째에 들어있습니다.')\n",
    "else : \n",
    "    print(f'{frt}(은)는 리스트에 들어있지 않아 추가했습니다.')\n",
    "    lst.append(frt)\n",
    "    # lst.insert(0, frt) # insert는 -1이면 뒤에서 2번째 인덱스에 추가됨\n",
    "    print('리스트 : ', lst)\n",
    "    \n",
    "print('*' * 45)"
   ]
  }
 ],
 "metadata": {
  "kernelspec": {
   "display_name": "Python 3 (ipykernel)",
   "language": "python",
   "name": "python3"
  },
  "language_info": {
   "codemirror_mode": {
    "name": "ipython",
    "version": 3
   },
   "file_extension": ".py",
   "mimetype": "text/x-python",
   "name": "python",
   "nbconvert_exporter": "python",
   "pygments_lexer": "ipython3",
   "version": "3.11.5"
  }
 },
 "nbformat": 4,
 "nbformat_minor": 5
}
